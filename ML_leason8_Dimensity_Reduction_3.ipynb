{
 "cells": [
  {
   "cell_type": "code",
   "execution_count": 1,
   "metadata": {},
   "outputs": [],
   "source": [
    "import pandas as pd\n",
    "import numpy as np\n",
    "import matplotlib.pyplot as plt"
   ]
  },
  {
   "cell_type": "code",
   "execution_count": 2,
   "metadata": {},
   "outputs": [],
   "source": [
    "from scipy.sparse import csr_matrix\n",
    "from sklearn.feature_extraction.text import TfidfVectorizer\n",
    "from sklearn.decomposition import TruncatedSVD\n",
    "from sklearn.cluster import KMeans\n",
    "from sklearn.pipeline import make_pipeline"
   ]
  },
  {
   "cell_type": "code",
   "execution_count": 3,
   "metadata": {},
   "outputs": [],
   "source": [
    "doc = ['you are watching machine learning course',\n",
    "       'word frequency array is a part of unsupervised learning from machine learning course',\n",
    "       'PLP is an online educational channel in youtube']\n",
    "titles = ['first doc', 'second doc', 'third doc']\n"
   ]
  },
  {
   "cell_type": "code",
   "execution_count": 4,
   "metadata": {},
   "outputs": [],
   "source": [
    "tfidf=TfidfVectorizer()\n",
    "csr_mat=tfidf.fit_transform(doc)"
   ]
  },
  {
   "cell_type": "code",
   "execution_count": 5,
   "metadata": {},
   "outputs": [],
   "source": [
    "word=tfidf.get_feature_names()"
   ]
  },
  {
   "cell_type": "code",
   "execution_count": 7,
   "metadata": {},
   "outputs": [
    {
     "data": {
      "text/plain": [
       "array([[0.        , 0.45954803, 0.        , 0.        , 0.34949812,\n",
       "        0.        , 0.        , 0.        , 0.        , 0.        ,\n",
       "        0.34949812, 0.34949812, 0.        , 0.        , 0.        ,\n",
       "        0.        , 0.        , 0.45954803, 0.        , 0.45954803,\n",
       "        0.        ],\n",
       "       [0.        , 0.        , 0.30084481, 0.        , 0.22880023,\n",
       "        0.        , 0.30084481, 0.30084481, 0.        , 0.22880023,\n",
       "        0.45760046, 0.22880023, 0.30084481, 0.        , 0.30084481,\n",
       "        0.        , 0.30084481, 0.        , 0.30084481, 0.        ,\n",
       "        0.        ],\n",
       "       [0.36325471, 0.        , 0.        , 0.36325471, 0.        ,\n",
       "        0.36325471, 0.        , 0.        , 0.36325471, 0.27626457,\n",
       "        0.        , 0.        , 0.        , 0.36325471, 0.        ,\n",
       "        0.36325471, 0.        , 0.        , 0.        , 0.        ,\n",
       "        0.36325471]])"
      ]
     },
     "execution_count": 7,
     "metadata": {},
     "output_type": "execute_result"
    }
   ],
   "source": [
    "csr_mat.toarray()"
   ]
  },
  {
   "cell_type": "code",
   "execution_count": 11,
   "metadata": {},
   "outputs": [
    {
     "data": {
      "text/plain": [
       "{'you': 19,\n",
       " 'are': 1,\n",
       " 'watching': 17,\n",
       " 'machine': 11,\n",
       " 'learning': 10,\n",
       " 'course': 4,\n",
       " 'word': 18,\n",
       " 'frequency': 6,\n",
       " 'array': 2,\n",
       " 'is': 9,\n",
       " 'part': 14,\n",
       " 'of': 12,\n",
       " 'unsupervised': 16,\n",
       " 'from': 7,\n",
       " 'plp': 15,\n",
       " 'an': 0,\n",
       " 'online': 13,\n",
       " 'educational': 5,\n",
       " 'channel': 3,\n",
       " 'in': 8,\n",
       " 'youtube': 20}"
      ]
     },
     "execution_count": 11,
     "metadata": {},
     "output_type": "execute_result"
    }
   ],
   "source": [
    "tfidf.vocabulary_"
   ]
  },
  {
   "cell_type": "code",
   "execution_count": 12,
   "metadata": {},
   "outputs": [],
   "source": [
    "svd_test=TruncatedSVD(n_components=2)\n",
    "kmeans_test=KMeans(n_clusters=2)\n",
    "pipeline=make_pipeline(svd_test,kmeans_test)\n",
    "pipeline.fit(csr_mat)\n",
    "labels=pipeline.predict(csr_mat)"
   ]
  },
  {
   "cell_type": "code",
   "execution_count": 14,
   "metadata": {},
   "outputs": [
    {
     "data": {
      "text/html": [
       "<div>\n",
       "<style scoped>\n",
       "    .dataframe tbody tr th:only-of-type {\n",
       "        vertical-align: middle;\n",
       "    }\n",
       "\n",
       "    .dataframe tbody tr th {\n",
       "        vertical-align: top;\n",
       "    }\n",
       "\n",
       "    .dataframe thead th {\n",
       "        text-align: right;\n",
       "    }\n",
       "</style>\n",
       "<table border=\"1\" class=\"dataframe\">\n",
       "  <thead>\n",
       "    <tr style=\"text-align: right;\">\n",
       "      <th></th>\n",
       "      <th>labels</th>\n",
       "      <th>docs</th>\n",
       "    </tr>\n",
       "  </thead>\n",
       "  <tbody>\n",
       "    <tr>\n",
       "      <th>0</th>\n",
       "      <td>0</td>\n",
       "      <td>first doc</td>\n",
       "    </tr>\n",
       "    <tr>\n",
       "      <th>1</th>\n",
       "      <td>0</td>\n",
       "      <td>second doc</td>\n",
       "    </tr>\n",
       "    <tr>\n",
       "      <th>2</th>\n",
       "      <td>1</td>\n",
       "      <td>third doc</td>\n",
       "    </tr>\n",
       "  </tbody>\n",
       "</table>\n",
       "</div>"
      ],
      "text/plain": [
       "   labels        docs\n",
       "0       0   first doc\n",
       "1       0  second doc\n",
       "2       1   third doc"
      ]
     },
     "execution_count": 14,
     "metadata": {},
     "output_type": "execute_result"
    }
   ],
   "source": [
    "df=pd.DataFrame({'labels':labels,'docs':titles})\n",
    "df.sort_values('labels')"
   ]
  },
  {
   "cell_type": "code",
   "execution_count": null,
   "metadata": {},
   "outputs": [],
   "source": []
  }
 ],
 "metadata": {
  "kernelspec": {
   "display_name": "Python 3",
   "language": "python",
   "name": "python3"
  },
  "language_info": {
   "codemirror_mode": {
    "name": "ipython",
    "version": 3
   },
   "file_extension": ".py",
   "mimetype": "text/x-python",
   "name": "python",
   "nbconvert_exporter": "python",
   "pygments_lexer": "ipython3",
   "version": "3.7.2"
  }
 },
 "nbformat": 4,
 "nbformat_minor": 4
}

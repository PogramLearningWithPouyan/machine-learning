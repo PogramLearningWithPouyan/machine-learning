{
 "cells": [
  {
   "cell_type": "code",
   "execution_count": 1,
   "metadata": {},
   "outputs": [],
   "source": [
    "import pandas as pd\n",
    "import numpy as np\n",
    "import matplotlib.pyplot as plt\n",
    "from scipy.sparse import csr_matrix\n",
    "from sklearn.feature_extraction.text import TfidfVectorizer"
   ]
  },
  {
   "cell_type": "code",
   "execution_count": 2,
   "metadata": {},
   "outputs": [],
   "source": [
    "doc = ['you are watching machine learning course',\n",
    "       'word frequency array is a part of unsupervised learning from machine learning course',\n",
    "       'PLP is an online educational channel in youtube']\n",
    "titles = ['first doc', 'second doc', 'third doc']"
   ]
  },
  {
   "cell_type": "code",
   "execution_count": 3,
   "metadata": {},
   "outputs": [],
   "source": [
    "tfidf=TfidfVectorizer()\n",
    "csr_mat=tfidf.fit_transform(doc)"
   ]
  },
  {
   "cell_type": "code",
   "execution_count": 4,
   "metadata": {},
   "outputs": [],
   "source": [
    "from sklearn.decomposition  import NMF"
   ]
  },
  {
   "cell_type": "code",
   "execution_count": 5,
   "metadata": {},
   "outputs": [],
   "source": [
    "nmf=NMF(n_components=2)\n",
    "nmf.fit(csr_mat)\n",
    "nmf_transformed=nmf.transform(csr_mat)"
   ]
  },
  {
   "cell_type": "code",
   "execution_count": 6,
   "metadata": {},
   "outputs": [
    {
     "data": {
      "text/html": [
       "<div>\n",
       "<style scoped>\n",
       "    .dataframe tbody tr th:only-of-type {\n",
       "        vertical-align: middle;\n",
       "    }\n",
       "\n",
       "    .dataframe tbody tr th {\n",
       "        vertical-align: top;\n",
       "    }\n",
       "\n",
       "    .dataframe thead th {\n",
       "        text-align: right;\n",
       "    }\n",
       "</style>\n",
       "<table border=\"1\" class=\"dataframe\">\n",
       "  <thead>\n",
       "    <tr style=\"text-align: right;\">\n",
       "      <th></th>\n",
       "      <th>an</th>\n",
       "      <th>are</th>\n",
       "      <th>array</th>\n",
       "      <th>channel</th>\n",
       "      <th>course</th>\n",
       "      <th>educational</th>\n",
       "      <th>frequency</th>\n",
       "      <th>from</th>\n",
       "      <th>in</th>\n",
       "      <th>is</th>\n",
       "      <th>...</th>\n",
       "      <th>machine</th>\n",
       "      <th>of</th>\n",
       "      <th>online</th>\n",
       "      <th>part</th>\n",
       "      <th>plp</th>\n",
       "      <th>unsupervised</th>\n",
       "      <th>watching</th>\n",
       "      <th>word</th>\n",
       "      <th>you</th>\n",
       "      <th>youtube</th>\n",
       "    </tr>\n",
       "  </thead>\n",
       "  <tbody>\n",
       "    <tr>\n",
       "      <th>0</th>\n",
       "      <td>0.000000</td>\n",
       "      <td>0.307233</td>\n",
       "      <td>0.199014</td>\n",
       "      <td>0.000000</td>\n",
       "      <td>0.38514</td>\n",
       "      <td>0.000000</td>\n",
       "      <td>0.199014</td>\n",
       "      <td>0.199014</td>\n",
       "      <td>0.000000</td>\n",
       "      <td>0.143910</td>\n",
       "      <td>...</td>\n",
       "      <td>0.38514</td>\n",
       "      <td>0.199014</td>\n",
       "      <td>0.000000</td>\n",
       "      <td>0.199014</td>\n",
       "      <td>0.000000</td>\n",
       "      <td>0.199014</td>\n",
       "      <td>0.307233</td>\n",
       "      <td>0.199014</td>\n",
       "      <td>0.307233</td>\n",
       "      <td>0.000000</td>\n",
       "    </tr>\n",
       "    <tr>\n",
       "      <th>1</th>\n",
       "      <td>0.356132</td>\n",
       "      <td>0.000000</td>\n",
       "      <td>0.006071</td>\n",
       "      <td>0.356132</td>\n",
       "      <td>0.00000</td>\n",
       "      <td>0.356132</td>\n",
       "      <td>0.006071</td>\n",
       "      <td>0.006071</td>\n",
       "      <td>0.356132</td>\n",
       "      <td>0.275688</td>\n",
       "      <td>...</td>\n",
       "      <td>0.00000</td>\n",
       "      <td>0.006071</td>\n",
       "      <td>0.356132</td>\n",
       "      <td>0.006071</td>\n",
       "      <td>0.356132</td>\n",
       "      <td>0.006071</td>\n",
       "      <td>0.000000</td>\n",
       "      <td>0.006071</td>\n",
       "      <td>0.000000</td>\n",
       "      <td>0.356132</td>\n",
       "    </tr>\n",
       "  </tbody>\n",
       "</table>\n",
       "<p>2 rows × 21 columns</p>\n",
       "</div>"
      ],
      "text/plain": [
       "         an       are     array   channel   course  educational  frequency  \\\n",
       "0  0.000000  0.307233  0.199014  0.000000  0.38514     0.000000   0.199014   \n",
       "1  0.356132  0.000000  0.006071  0.356132  0.00000     0.356132   0.006071   \n",
       "\n",
       "       from        in        is  ...  machine        of    online      part  \\\n",
       "0  0.199014  0.000000  0.143910  ...  0.38514  0.199014  0.000000  0.199014   \n",
       "1  0.006071  0.356132  0.275688  ...  0.00000  0.006071  0.356132  0.006071   \n",
       "\n",
       "        plp  unsupervised  watching      word       you   youtube  \n",
       "0  0.000000      0.199014  0.307233  0.199014  0.307233  0.000000  \n",
       "1  0.356132      0.006071  0.000000  0.006071  0.000000  0.356132  \n",
       "\n",
       "[2 rows x 21 columns]"
      ]
     },
     "execution_count": 6,
     "metadata": {},
     "output_type": "execute_result"
    }
   ],
   "source": [
    "pd.DataFrame(nmf.components_,columns=sorted(tfidf.vocabulary_))"
   ]
  },
  {
   "cell_type": "code",
   "execution_count": 7,
   "metadata": {},
   "outputs": [
    {
     "data": {
      "text/plain": [
       "array([[0.75517503, 0.        ],\n",
       "       [0.74784285, 0.04148458],\n",
       "       [0.        , 1.01830894]])"
      ]
     },
     "execution_count": 7,
     "metadata": {},
     "output_type": "execute_result"
    }
   ],
   "source": [
    "nmf_transformed"
   ]
  },
  {
   "cell_type": "code",
   "execution_count": 8,
   "metadata": {},
   "outputs": [
    {
     "data": {
      "text/html": [
       "<div>\n",
       "<style scoped>\n",
       "    .dataframe tbody tr th:only-of-type {\n",
       "        vertical-align: middle;\n",
       "    }\n",
       "\n",
       "    .dataframe tbody tr th {\n",
       "        vertical-align: top;\n",
       "    }\n",
       "\n",
       "    .dataframe thead th {\n",
       "        text-align: right;\n",
       "    }\n",
       "</style>\n",
       "<table border=\"1\" class=\"dataframe\">\n",
       "  <thead>\n",
       "    <tr style=\"text-align: right;\">\n",
       "      <th></th>\n",
       "      <th>0</th>\n",
       "      <th>1</th>\n",
       "    </tr>\n",
       "  </thead>\n",
       "  <tbody>\n",
       "    <tr>\n",
       "      <th>first doc</th>\n",
       "      <td>0.755175</td>\n",
       "      <td>0.000000</td>\n",
       "    </tr>\n",
       "    <tr>\n",
       "      <th>second doc</th>\n",
       "      <td>0.747843</td>\n",
       "      <td>0.041485</td>\n",
       "    </tr>\n",
       "    <tr>\n",
       "      <th>third doc</th>\n",
       "      <td>0.000000</td>\n",
       "      <td>1.018309</td>\n",
       "    </tr>\n",
       "  </tbody>\n",
       "</table>\n",
       "</div>"
      ],
      "text/plain": [
       "                   0         1\n",
       "first doc   0.755175  0.000000\n",
       "second doc  0.747843  0.041485\n",
       "third doc   0.000000  1.018309"
      ]
     },
     "execution_count": 8,
     "metadata": {},
     "output_type": "execute_result"
    }
   ],
   "source": [
    "nmf_df=pd.DataFrame(nmf_transformed,index=titles)\n",
    "nmf_df"
   ]
  },
  {
   "cell_type": "code",
   "execution_count": 9,
   "metadata": {},
   "outputs": [
    {
     "data": {
      "text/plain": [
       "array([[0.49770353, 2.01555509],\n",
       "       [1.9886994 , 1.00775116],\n",
       "       [3.47968482, 0.        ]])"
      ]
     },
     "execution_count": 9,
     "metadata": {},
     "output_type": "execute_result"
    }
   ],
   "source": [
    "mat=[[1,2,3],[4,5,6],[7,8,9]]\n",
    "mat_nmf=NMF(n_components=2)\n",
    "mat_nmf.fit(mat)\n",
    "nmf_features=mat_nmf.transform(mat)\n",
    "nmf_features"
   ]
  },
  {
   "cell_type": "code",
   "execution_count": 10,
   "metadata": {},
   "outputs": [
    {
     "data": {
      "text/plain": [
       "array([[2.01166962, 2.29905988, 2.58644549],\n",
       "       [0.        , 0.42480675, 0.84963252]])"
      ]
     },
     "execution_count": 10,
     "metadata": {},
     "output_type": "execute_result"
    }
   ],
   "source": [
    "mat_nmf.components_"
   ]
  },
  {
   "cell_type": "code",
   "execution_count": 11,
   "metadata": {},
   "outputs": [
    {
     "data": {
      "text/plain": [
       "array([[1.00121507, 2.00047162, 2.99976419],\n",
       "       [4.00060618, 5.0002385 , 5.99988075],\n",
       "       [6.99997626, 8.00000376, 9.00001512]])"
      ]
     },
     "execution_count": 11,
     "metadata": {},
     "output_type": "execute_result"
    }
   ],
   "source": [
    "np.dot(nmf_features,mat_nmf.components_)"
   ]
  },
  {
   "cell_type": "code",
   "execution_count": null,
   "metadata": {},
   "outputs": [],
   "source": []
  }
 ],
 "metadata": {
  "kernelspec": {
   "display_name": "Python 3",
   "language": "python",
   "name": "python3"
  },
  "language_info": {
   "codemirror_mode": {
    "name": "ipython",
    "version": 3
   },
   "file_extension": ".py",
   "mimetype": "text/x-python",
   "name": "python",
   "nbconvert_exporter": "python",
   "pygments_lexer": "ipython3",
   "version": "3.7.2"
  }
 },
 "nbformat": 4,
 "nbformat_minor": 4
}
